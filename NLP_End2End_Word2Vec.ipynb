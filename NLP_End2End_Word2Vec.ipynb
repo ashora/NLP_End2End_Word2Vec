{
 "cells": [
  {
   "cell_type": "markdown",
   "metadata": {},
   "source": [
    "# Helpful Functions\n",
    "\n",
    "You will see these at the top of every module.  These are simply a set of reusable functions that we will make use of.  Each of them will be explained as the semester progresses.  They are explained in greater detail as the course progresses.  Class 4 contains a complete overview of these functions."
   ]
  },
  {
   "cell_type": "code",
   "execution_count": 3,
   "metadata": {
    "ExecuteTime": {
     "end_time": "2018-05-01T15:26:59.236216Z",
     "start_time": "2018-05-01T15:26:55.468480Z"
    }
   },
   "outputs": [],
   "source": [
    "from sklearn import preprocessing\n",
    "import matplotlib.pyplot as plt\n",
    "import numpy as np\n",
    "import pandas as pd\n",
    "import shutil\n",
    "import os\n",
    "import requests\n",
    "import base64\n",
    "\n",
    "\n",
    "# Encode text values to dummy variables(i.e. [1,0,0],[0,1,0],[0,0,1] for red,green,blue)\n",
    "def encode_text_dummy(df, name):\n",
    "    dummies = pd.get_dummies(df[name])\n",
    "    for x in dummies.columns:\n",
    "        dummy_name = \"{}-{}\".format(name, x)\n",
    "        df[dummy_name] = dummies[x]\n",
    "    df.drop(name, axis=1, inplace=True)\n",
    "\n",
    "\n",
    "# Encode text values to a single dummy variable.  The new columns (which do not replace the old) will have a 1\n",
    "# at every location where the original column (name) matches each of the target_values.  One column is added for\n",
    "# each target value.\n",
    "def encode_text_single_dummy(df, name, target_values):\n",
    "    for tv in target_values:\n",
    "        l = list(df[name].astype(str))\n",
    "        l = [1 if str(x) == str(tv) else 0 for x in l]\n",
    "        name2 = \"{}-{}\".format(name, tv)\n",
    "        df[name2] = l\n",
    "\n",
    "\n",
    "# Encode text values to indexes(i.e. [1],[2],[3] for red,green,blue).\n",
    "def encode_text_index(df, name):\n",
    "    le = preprocessing.LabelEncoder()\n",
    "    df[name] = le.fit_transform(df[name])\n",
    "    return le.classes_\n",
    "\n",
    "\n",
    "# Encode a numeric column as zscores\n",
    "def encode_numeric_zscore(df, name, mean=None, sd=None):\n",
    "    if mean is None:\n",
    "        mean = df[name].mean()\n",
    "\n",
    "    if sd is None:\n",
    "        sd = df[name].std()\n",
    "\n",
    "    df[name] = (df[name] - mean) / sd\n",
    "\n",
    "\n",
    "# Convert all missing values in the specified column to the median\n",
    "def missing_median(df, name):\n",
    "    med = df[name].median()\n",
    "    df[name] = df[name].fillna(med)\n",
    "\n",
    "\n",
    "# Convert all missing values in the specified column to the default\n",
    "def missing_default(df, name, default_value):\n",
    "    df[name] = df[name].fillna(default_value)\n",
    "\n",
    "\n",
    "# Convert a Pandas dataframe to the x,y inputs that TensorFlow needs\n",
    "def to_xy(df, target):\n",
    "    result = []\n",
    "    for x in df.columns:\n",
    "        if x != target:\n",
    "            result.append(x)\n",
    "    # find out the type of the target column.  Is it really this hard? :(\n",
    "    target_type = df[target].dtypes\n",
    "    target_type = target_type[0] if hasattr(target_type, '__iter__') else target_type\n",
    "    # Encode to int for classification, float otherwise. TensorFlow likes 32 bits.\n",
    "    if target_type in (np.int64, np.int32):\n",
    "        # Classification\n",
    "        dummies = pd.get_dummies(df[target])\n",
    "        return df.as_matrix(result).astype(np.float32), dummies.as_matrix().astype(np.float32)\n",
    "    else:\n",
    "        # Regression\n",
    "        return df.as_matrix(result).astype(np.float32), df.as_matrix([target]).astype(np.float32)\n",
    "\n",
    "# Nicely formatted time string\n",
    "def hms_string(sec_elapsed):\n",
    "    h = int(sec_elapsed / (60 * 60))\n",
    "    m = int((sec_elapsed % (60 * 60)) / 60)\n",
    "    s = sec_elapsed % 60\n",
    "    return \"{}:{:>02}:{:>05.2f}\".format(h, m, s)\n",
    "\n",
    "\n",
    "# Regression chart.\n",
    "def chart_regression(pred,y,sort=True):\n",
    "    t = pd.DataFrame({'pred' : pred, 'y' : y.flatten()})\n",
    "    if sort:\n",
    "        t.sort_values(by=['y'],inplace=True)\n",
    "    a = plt.plot(t['y'].tolist(),label='expected')\n",
    "    b = plt.plot(t['pred'].tolist(),label='prediction')\n",
    "    plt.ylabel('output')\n",
    "    plt.legend()\n",
    "    plt.show()\n",
    "\n",
    "# Remove all rows where the specified column is +/- sd standard deviations\n",
    "def remove_outliers(df, name, sd):\n",
    "    drop_rows = df.index[(np.abs(df[name] - df[name].mean()) >= (sd * df[name].std()))]\n",
    "    df.drop(drop_rows, axis=0, inplace=True)\n",
    "\n",
    "\n",
    "# Encode a column to a range between normalized_low and normalized_high.\n",
    "def encode_numeric_range(df, name, normalized_low=-1, normalized_high=1,\n",
    "                         data_low=None, data_high=None):\n",
    "    if data_low is None:\n",
    "        data_low = min(df[name])\n",
    "        data_high = max(df[name])\n",
    "\n",
    "    df[name] = ((df[name] - data_low) / (data_high - data_low)) \\\n",
    "               * (normalized_high - normalized_low) + normalized_low\n",
    "        \n"
   ]
  },
  {
   "cell_type": "markdown",
   "metadata": {},
   "source": [
    "# Chat Bots\n",
    "\n",
    "Using the above code you can create your own primitive chat bots.  A some what famous video on Youtube from Cornell University shows what happens [when two chat bots converse](https://www.youtube.com/watch?v=WnzlbyTZsQY).  Other interesting chat bot type technology:\n",
    "\n",
    "* [CleverBot](http://www.cleverbot.com/)\n",
    "* [Computer Science Paper Generator](https://pdos.csail.mit.edu/archive/scigen/)\n",
    "\n",
    "### Other Resources\n",
    "* [Word Net](http://wordnet.princeton.edu/)\n",
    "* [bAbI Datasets](https://research.fb.com/downloads/babi/)\n"
   ]
  },
  {
   "cell_type": "markdown",
   "metadata": {
    "collapsed": true
   },
   "source": [
    "# End-To-End Memory Networks\n",
    "\n",
    "The origional source papers for End-to-End Memory Networks:\n",
    "\n",
    "* Jason Weston, Antoine Bordes, Sumit Chopra, Tomas Mikolov, Alexander M. Rush, [\"Towards AI-Complete Question Answering: A Set of Prerequisite Toy Tasks\"](http://arxiv.org/abs/1502.05698)\n",
    "* Sainbayar Sukhbaatar, Arthur Szlam, Jason Weston, Rob Fergus, [\"End-To-End Memory Networks\"](http://arxiv.org/abs/1503.08895)\n",
    "\n",
    "Other useful links for End-To-End Memory Networks\n",
    "\n",
    "* [bAbI Datasets](https://research.fb.com/downloads/babi/)\n",
    "* [Keras End-To-End Memory Networks](https://github.com/fchollet/keras/blob/master/examples/babi_memnn.py)\n",
    "* [Online JavaScript Demo of End-to-End Memory Networks](http://yerevann.com/dmn-ui/#/)"
   ]
  },
  {
   "cell_type": "markdown",
   "metadata": {},
   "source": [
    "#### Imports and Utility Functions\n",
    "\n",
    "The following imports are needed to create the end-to-end memory network. Neither Keras nor TensorFlow directly support End-to-End Memory Networks (yet), so it is necessary to create them using existing tools.  Several functions are needed defined here to read the bAbI dataset that we are using to train."
   ]
  },
  {
   "cell_type": "code",
   "execution_count": 4,
   "metadata": {
    "ExecuteTime": {
     "end_time": "2018-05-01T15:27:03.654470Z",
     "start_time": "2018-05-01T15:26:59.252219Z"
    }
   },
   "outputs": [
    {
     "name": "stderr",
     "output_type": "stream",
     "text": [
      "Using TensorFlow backend.\n"
     ]
    }
   ],
   "source": [
    "from keras.models import Sequential, Model\n",
    "from keras.layers.embeddings import Embedding\n",
    "from keras.layers import Input, Activation, Dense, Permute, Dropout, add, dot, concatenate\n",
    "from keras.layers import LSTM\n",
    "from keras.utils.data_utils import get_file\n",
    "from keras.preprocessing.sequence import pad_sequences\n",
    "from keras.models import load_model\n",
    "from sklearn.metrics import confusion_matrix\n",
    "from sklearn import metrics\n",
    "from functools import reduce\n",
    "import pickle\n",
    "import tarfile\n",
    "import numpy as np\n",
    "import re\n",
    "import os\n",
    "import time\n",
    "\n",
    "\n",
    "def tokenize(sent):\n",
    "    '''Return the tokens of a sentence including punctuation.\n",
    "    >>> tokenize('Bob dropped the apple. Where is the apple?')\n",
    "    ['Bob', 'dropped', 'the', 'apple', '.', 'Where', 'is', 'the', 'apple', '?']\n",
    "    '''\n",
    "    return [x.strip() for x in re.split('(\\W+)', sent) if x.strip()]\n",
    "\n",
    "\n",
    "def parse_stories(lines, only_supporting=False):\n",
    "    '''Parse stories provided in the bAbi tasks format\n",
    "    If only_supporting is true, only the sentences\n",
    "    that support the answer are kept.\n",
    "    '''\n",
    "    data = []\n",
    "    story = []\n",
    "    for line in lines:\n",
    "        line = line.decode('utf-8').strip()\n",
    "        nid, line = line.split(' ', 1)\n",
    "        nid = int(nid)\n",
    "        if nid == 1:\n",
    "            story = []\n",
    "        if '\\t' in line:\n",
    "            q, a, supporting = line.split('\\t')\n",
    "            q = tokenize(q)\n",
    "            substory = None\n",
    "            if only_supporting:\n",
    "                # Only select the related substory\n",
    "                supporting = map(int, supporting.split())\n",
    "                substory = [story[i - 1] for i in supporting]\n",
    "            else:\n",
    "                # Provide all the substories\n",
    "                substory = [x for x in story if x]\n",
    "            data.append((substory, q, a))\n",
    "            story.append('')\n",
    "        else:\n",
    "            sent = tokenize(line)\n",
    "            story.append(sent)\n",
    "    return data\n",
    "\n",
    "\n",
    "def get_stories(f, only_supporting=False, max_length=None):\n",
    "    '''Given a file name, read the file,\n",
    "    retrieve the stories,\n",
    "    and then convert the sentences into a single story.\n",
    "    If max_length is supplied,\n",
    "    any stories longer than max_length tokens will be discarded.\n",
    "    '''\n",
    "    data = parse_stories(f.readlines(), only_supporting=only_supporting)\n",
    "    flatten = lambda data: reduce(lambda x, y: x + y, data)\n",
    "    data = [(flatten(story), q, answer) for story, q, answer in data if not max_length or len(flatten(story)) < max_length]\n",
    "    return data\n",
    "\n",
    "\n",
    "def vectorize_stories(data):\n",
    "    inputs, queries, answers = [], [], []\n",
    "    for story, query, answer in data:\n",
    "        inputs.append([word_idx[w] for w in story])\n",
    "        queries.append([word_idx[w] for w in query])\n",
    "        answers.append(word_idx[answer])\n",
    "    return (pad_sequences(inputs, maxlen=story_maxlen),\n",
    "            pad_sequences(queries, maxlen=query_maxlen),\n",
    "            np.array(answers))\n"
   ]
  },
  {
   "cell_type": "markdown",
   "metadata": {},
   "source": [
    "#### Getting the Data\n",
    "\n",
    "The data is downloaded from the Internet, if needed.\n",
    "\n",
    "As you can see (below), this dataset contains stories and questions about those stories.  The computer is not learning these specific stories below, but rather how to read a story and answer a question about that story.  Consider the first story \"Mary moved to the bathroom. John went to the hallway.\" the computer is not learning that Mary is in the bathroom or John is in the hallway, this changes per story.  Rather, the computer is learning to parse the story and extract information about individual people and their locations.\n",
    "\n",
    "The computer is learning to read, at least in a limited sense."
   ]
  },
  {
   "cell_type": "code",
   "execution_count": 3,
   "metadata": {
    "ExecuteTime": {
     "end_time": "2018-04-23T18:09:07.881288Z",
     "start_time": "2018-04-23T18:08:55.613821Z"
    }
   },
   "outputs": [
    {
     "name": "stdout",
     "output_type": "stream",
     "text": [
      "Downloading data from https://s3.amazonaws.com/text-datasets/babi_tasks_1-20_v1-2.tar.gz\n",
      "11747328/11745123 [==============================] - 10s 1us/step\n",
      "Extracting stories for the challenge: single_supporting_fact_10k\n"
     ]
    }
   ],
   "source": [
    "try:\n",
    "    path = get_file('babi-tasks-v1-2.tar.gz', origin='https://s3.amazonaws.com/text-datasets/babi_tasks_1-20_v1-2.tar.gz')\n",
    "except:\n",
    "    print('Error downloading dataset, please download it manually:\\n'\n",
    "          '$ wget http://www.thespermwhale.com/jaseweston/babi/tasks_1-20_v1-2.tar.gz\\n'\n",
    "          '$ mv tasks_1-20_v1-2.tar.gz ~/.keras/datasets/babi-tasks-v1-2.tar.gz')\n",
    "    raise\n",
    "tar = tarfile.open(path)\n",
    "\n",
    "challenges = {\n",
    "    # QA1 with 10,000 samples\n",
    "    'single_supporting_fact_10k': 'tasks_1-20_v1-2/en-10k/qa1_single-supporting-fact_{}.txt',\n",
    "    # QA2 with 10,000 samples\n",
    "    'two_supporting_facts_10k': 'tasks_1-20_v1-2/en-10k/qa2_two-supporting-facts_{}.txt',\n",
    "}\n",
    "challenge_type = 'single_supporting_fact_10k'\n",
    "challenge = challenges[challenge_type]\n",
    "\n",
    "print('Extracting stories for the challenge:', challenge_type)\n",
    "train_stories = get_stories(tar.extractfile(challenge.format('train')))\n",
    "test_stories = get_stories(tar.extractfile(challenge.format('test')))\n",
    "\n"
   ]
  },
  {
   "cell_type": "code",
   "execution_count": 4,
   "metadata": {
    "ExecuteTime": {
     "end_time": "2018-04-23T18:09:10.423482Z",
     "start_time": "2018-04-23T18:09:10.416486Z"
    }
   },
   "outputs": [
    {
     "name": "stdout",
     "output_type": "stream",
     "text": [
      "Story: Mary moved to the bathroom . John went to the hallway .\n",
      "Query: Where is Mary ?\n",
      "Answer: bathroom\n",
      "---\n",
      "Story: Mary moved to the bathroom . John went to the hallway . Daniel went back to the hallway . Sandra moved to the garden .\n",
      "Query: Where is Daniel ?\n",
      "Answer: hallway\n",
      "---\n",
      "Story: Mary moved to the bathroom . John went to the hallway . Daniel went back to the hallway . Sandra moved to the garden . John moved to the office . Sandra journeyed to the bathroom .\n",
      "Query: Where is Daniel ?\n",
      "Answer: hallway\n",
      "---\n",
      "Story: Mary moved to the bathroom . John went to the hallway . Daniel went back to the hallway . Sandra moved to the garden . John moved to the office . Sandra journeyed to the bathroom . Mary moved to the hallway . Daniel travelled to the office .\n",
      "Query: Where is Daniel ?\n",
      "Answer: office\n",
      "---\n",
      "Story: Mary moved to the bathroom . John went to the hallway . Daniel went back to the hallway . Sandra moved to the garden . John moved to the office . Sandra journeyed to the bathroom . Mary moved to the hallway . Daniel travelled to the office . John went back to the garden . John moved to the bedroom .\n",
      "Query: Where is Sandra ?\n",
      "Answer: bathroom\n",
      "---\n"
     ]
    }
   ],
   "source": [
    "# See what the data looks like\n",
    "\n",
    "for i in range(5):\n",
    "    print(\"Story: {}\".format(' '.join(train_stories[i][0])))\n",
    "    print(\"Query: {}\".format(' '.join(train_stories[i][1])))\n",
    "    print(\"Answer: {}\".format(train_stories[i][2]))\n",
    "    print(\"---\")"
   ]
  },
  {
   "cell_type": "markdown",
   "metadata": {},
   "source": [
    "#### Building the Vocabulary\n",
    "\n",
    "This type of neural network can only deal with a set vocabulary.  The words are indexed and each becomes a number.  Words not in the training vocabulary will not be recognized."
   ]
  },
  {
   "cell_type": "code",
   "execution_count": 5,
   "metadata": {
    "ExecuteTime": {
     "end_time": "2018-04-23T18:09:16.826844Z",
     "start_time": "2018-04-23T18:09:16.750790Z"
    }
   },
   "outputs": [
    {
     "name": "stdout",
     "output_type": "stream",
     "text": [
      "-\n",
      "Vocab size: 22 unique words\n",
      "Story max length: 68 words\n",
      "Query max length: 4 words\n",
      "Number of training stories: 10000\n",
      "Number of test stories: 1000\n",
      "-\n",
      "Here's what a \"story\" tuple looks like (input, query, answer):\n",
      "(['Mary', 'moved', 'to', 'the', 'bathroom', '.', 'John', 'went', 'to', 'the', 'hallway', '.'], ['Where', 'is', 'Mary', '?'], 'bathroom')\n",
      "-\n",
      "(0, '.')\n",
      "(1, '?')\n",
      "(2, 'Daniel')\n",
      "(3, 'John')\n",
      "(4, 'Mary')\n",
      "(5, 'Sandra')\n",
      "(6, 'Where')\n",
      "(7, 'back')\n",
      "(8, 'bathroom')\n",
      "(9, 'bedroom')\n",
      "(10, 'garden')\n",
      "(11, 'hallway')\n",
      "(12, 'is')\n",
      "(13, 'journeyed')\n",
      "(14, 'kitchen')\n",
      "(15, 'moved')\n",
      "(16, 'office')\n",
      "(17, 'the')\n",
      "(18, 'to')\n",
      "(19, 'travelled')\n",
      "(20, 'went')\n"
     ]
    }
   ],
   "source": [
    "vocab = set()\n",
    "for story, q, answer in train_stories + test_stories:\n",
    "    vocab |= set(story + q + [answer])\n",
    "vocab = sorted(vocab)\n",
    "\n",
    "# Reserve 0 for masking via pad_sequences\n",
    "vocab_size = len(vocab) + 1\n",
    "story_maxlen = max(map(len, (x for x, _, _ in train_stories + test_stories)))\n",
    "query_maxlen = max(map(len, (x for _, x, _ in train_stories + test_stories)))\n",
    "\n",
    "print('-')\n",
    "print('Vocab size:', vocab_size, 'unique words')\n",
    "print('Story max length:', story_maxlen, 'words')\n",
    "print('Query max length:', query_maxlen, 'words')\n",
    "print('Number of training stories:', len(train_stories))\n",
    "print('Number of test stories:', len(test_stories))\n",
    "print('-')\n",
    "print('Here\\'s what a \"story\" tuple looks like (input, query, answer):')\n",
    "print(train_stories[0])\n",
    "print('-')\n",
    "\n",
    "\n",
    "for s in list(enumerate(vocab)):\n",
    "    print(s)"
   ]
  },
  {
   "cell_type": "markdown",
   "metadata": {},
   "source": [
    "#### Building the Training and Test Data\n",
    "\n",
    "The training data that is actually sent to the neural network is the vectorized representation of the sentences.  Each word is replaced by its vocab number.  Additionally there are two parts to the input (x) data: story and query.  The answer (x) is a always a single vocab word number.  This is a classification network.  Any of the vocab words could potentially be the answer.  Stories can be at most 68 words and questions at most 4.  Both of these limits are automatically determined from the training data."
   ]
  },
  {
   "cell_type": "code",
   "execution_count": 6,
   "metadata": {
    "ExecuteTime": {
     "end_time": "2018-04-23T18:09:21.393362Z",
     "start_time": "2018-04-23T18:09:21.085100Z"
    }
   },
   "outputs": [
    {
     "name": "stdout",
     "output_type": "stream",
     "text": [
      "Vectorizing the word sequences...\n",
      "-\n",
      "inputs: integer tensor of shape (samples, max_length)\n",
      "inputs_train shape: (10000, 68)\n",
      "inputs_test shape: (1000, 68)\n",
      "-\n",
      "queries: integer tensor of shape (samples, max_length)\n",
      "queries_train shape: (10000, 4)\n",
      "queries_test shape: (1000, 4)\n",
      "-\n",
      "answers: binary (1 or 0) tensor of shape (samples, vocab_size)\n",
      "answers_train shape: (10000,)\n",
      "answers_test shape: (1000,)\n",
      "-\n"
     ]
    }
   ],
   "source": [
    "print('Vectorizing the word sequences...')\n",
    "word_idx = dict((c, i + 1) for i, c in enumerate(vocab))\n",
    "inputs_train, queries_train, answers_train = vectorize_stories(train_stories)\n",
    "inputs_test, queries_test, answers_test = vectorize_stories(test_stories)\n",
    "\n",
    "print('-')\n",
    "print('inputs: integer tensor of shape (samples, max_length)')\n",
    "print('inputs_train shape:', inputs_train.shape)\n",
    "print('inputs_test shape:', inputs_test.shape)\n",
    "print('-')\n",
    "print('queries: integer tensor of shape (samples, max_length)')\n",
    "print('queries_train shape:', queries_train.shape)\n",
    "print('queries_test shape:', queries_test.shape)\n",
    "print('-')\n",
    "print('answers: binary (1 or 0) tensor of shape (samples, vocab_size)')\n",
    "print('answers_train shape:', answers_train.shape)\n",
    "print('answers_test shape:', answers_test.shape)\n",
    "print('-')\n"
   ]
  },
  {
   "cell_type": "code",
   "execution_count": 7,
   "metadata": {
    "ExecuteTime": {
     "end_time": "2018-04-23T18:09:24.427140Z",
     "start_time": "2018-04-23T18:09:24.421134Z"
    }
   },
   "outputs": [
    {
     "name": "stdout",
     "output_type": "stream",
     "text": [
      "Story (x): [ 0  0  0  0  0  0  0  0  0  0  0  0  0  0  0  0  0  0  0  0  0  0  0  0  0\n",
      "  0  0  0  0  0  0  0  0  0  0  0  0  0  0  0  0  0  0  0  0  0  0  0  0  0\n",
      "  0  0  0  0  0  0  5 16 19 18  9  1  4 21 19 18 12  1]\n",
      "Question (x): [ 7 13  5  2]\n",
      "Answer: 9\n"
     ]
    }
   ],
   "source": [
    "# See individual training element.\n",
    "\n",
    "print(\"Story (x): {}\".format(inputs_train[0]))\n",
    "print(\"Question (x): {}\".format(queries_train[0]))\n",
    "print(\"Answer: {}\".format(answers_train[0]))"
   ]
  },
  {
   "cell_type": "markdown",
   "metadata": {},
   "source": [
    "#### Compile the Neural Network"
   ]
  },
  {
   "cell_type": "code",
   "execution_count": 8,
   "metadata": {
    "ExecuteTime": {
     "end_time": "2018-04-23T18:09:26.843569Z",
     "start_time": "2018-04-23T18:09:26.076439Z"
    }
   },
   "outputs": [
    {
     "name": "stdout",
     "output_type": "stream",
     "text": [
      "Compiling...\n",
      "Done.\n"
     ]
    }
   ],
   "source": [
    "print('Compiling...')\n",
    "\n",
    "# placeholders\n",
    "input_sequence = Input((story_maxlen,))\n",
    "question = Input((query_maxlen,))\n",
    "\n",
    "# encoders\n",
    "# embed the input sequence into a sequence of vectors\n",
    "input_encoder_m = Sequential()\n",
    "input_encoder_m.add(Embedding(input_dim=vocab_size,\n",
    "                              output_dim=64))\n",
    "input_encoder_m.add(Dropout(0.3))\n",
    "# output: (samples, story_maxlen, embedding_dim)\n",
    "\n",
    "# embed the input into a sequence of vectors of size query_maxlen\n",
    "input_encoder_c = Sequential()\n",
    "input_encoder_c.add(Embedding(input_dim=vocab_size,\n",
    "                              output_dim=query_maxlen))\n",
    "input_encoder_c.add(Dropout(0.3))\n",
    "# output: (samples, story_maxlen, query_maxlen)\n",
    "\n",
    "# embed the question into a sequence of vectors\n",
    "question_encoder = Sequential()\n",
    "question_encoder.add(Embedding(input_dim=vocab_size,\n",
    "                               output_dim=64,\n",
    "                               input_length=query_maxlen))\n",
    "question_encoder.add(Dropout(0.3))\n",
    "# output: (samples, query_maxlen, embedding_dim)\n",
    "\n",
    "# encode input sequence and questions (which are indices)\n",
    "# to sequences of dense vectors\n",
    "input_encoded_m = input_encoder_m(input_sequence)\n",
    "input_encoded_c = input_encoder_c(input_sequence)\n",
    "question_encoded = question_encoder(question)\n",
    "\n",
    "# compute a 'match' between the first input vector sequence\n",
    "# and the question vector sequence\n",
    "# shape: `(samples, story_maxlen, query_maxlen)`\n",
    "match = dot([input_encoded_m, question_encoded], axes=(2, 2))\n",
    "match = Activation('softmax')(match)\n",
    "\n",
    "# add the match matrix with the second input vector sequence\n",
    "response = add([match, input_encoded_c])  # (samples, story_maxlen, query_maxlen)\n",
    "response = Permute((2, 1))(response)  # (samples, query_maxlen, story_maxlen)\n",
    "\n",
    "# concatenate the match matrix with the question vector sequence\n",
    "answer = concatenate([response, question_encoded])\n",
    "\n",
    "# the original paper uses a matrix multiplication for this reduction step.\n",
    "# we choose to use a RNN instead.\n",
    "answer = LSTM(32)(answer)  # (samples, 32)\n",
    "\n",
    "# one regularization layer -- more would probably be needed.\n",
    "answer = Dropout(0.3)(answer)\n",
    "answer = Dense(vocab_size)(answer)  # (samples, vocab_size)\n",
    "# we output a probability distribution over the vocabulary\n",
    "answer = Activation('softmax')(answer)\n",
    "\n",
    "# build the final model\n",
    "model = Model([input_sequence, question], answer)\n",
    "model.compile(optimizer='rmsprop', loss='sparse_categorical_crossentropy',\n",
    "              metrics=['accuracy'])\n",
    "print(\"Done.\")\n"
   ]
  },
  {
   "cell_type": "markdown",
   "metadata": {},
   "source": [
    "#### Train the Neural Network\n",
    "\n",
    "It will take some time (probably up to 1/2 hour) to train this network on a CPU.  The network is saved.  If you've previously saved the neural network, you can skip this step and load the neural network in the next step."
   ]
  },
  {
   "cell_type": "code",
   "execution_count": 9,
   "metadata": {
    "ExecuteTime": {
     "end_time": "2018-04-23T18:18:13.025382Z",
     "start_time": "2018-04-23T18:09:28.460792Z"
    },
    "scrolled": true
   },
   "outputs": [
    {
     "name": "stdout",
     "output_type": "stream",
     "text": [
      "Train on 10000 samples, validate on 1000 samples\n",
      "Epoch 1/120\n",
      "10000/10000 [==============================] - 6s 627us/step - loss: 1.9556 - acc: 0.1672 - val_loss: 1.7957 - val_acc: 0.1540\n",
      "Epoch 2/120\n",
      "10000/10000 [==============================] - 5s 490us/step - loss: 1.7296 - acc: 0.2432 - val_loss: 1.6453 - val_acc: 0.3320\n",
      "Epoch 3/120\n",
      "10000/10000 [==============================] - 5s 475us/step - loss: 1.6404 - acc: 0.3091 - val_loss: 1.5817 - val_acc: 0.3990\n",
      "Epoch 4/120\n",
      "10000/10000 [==============================] - 4s 443us/step - loss: 1.5495 - acc: 0.3894 - val_loss: 1.4681 - val_acc: 0.4560\n",
      "Epoch 5/120\n",
      "10000/10000 [==============================] - 5s 486us/step - loss: 1.4896 - acc: 0.4425 - val_loss: 1.4033 - val_acc: 0.5060\n",
      "Epoch 6/120\n",
      "10000/10000 [==============================] - 4s 438us/step - loss: 1.4388 - acc: 0.4691 - val_loss: 1.3535 - val_acc: 0.5010\n",
      "Epoch 7/120\n",
      "10000/10000 [==============================] - 5s 471us/step - loss: 1.4026 - acc: 0.4771 - val_loss: 1.3625 - val_acc: 0.4940\n",
      "Epoch 8/120\n",
      "10000/10000 [==============================] - 4s 416us/step - loss: 1.3774 - acc: 0.4870 - val_loss: 1.3143 - val_acc: 0.5040\n",
      "Epoch 9/120\n",
      "10000/10000 [==============================] - 4s 416us/step - loss: 1.3496 - acc: 0.4917 - val_loss: 1.2921 - val_acc: 0.5070\n",
      "Epoch 10/120\n",
      "10000/10000 [==============================] - 4s 411us/step - loss: 1.3482 - acc: 0.4893 - val_loss: 1.3001 - val_acc: 0.5050\n",
      "Epoch 11/120\n",
      "10000/10000 [==============================] - 4s 411us/step - loss: 1.3328 - acc: 0.4937 - val_loss: 1.2806 - val_acc: 0.5100\n",
      "Epoch 12/120\n",
      "10000/10000 [==============================] - 4s 412us/step - loss: 1.3127 - acc: 0.4985 - val_loss: 1.2608 - val_acc: 0.5230\n",
      "Epoch 13/120\n",
      "10000/10000 [==============================] - 4s 431us/step - loss: 1.2900 - acc: 0.5078 - val_loss: 1.2525 - val_acc: 0.5230\n",
      "Epoch 14/120\n",
      "10000/10000 [==============================] - 5s 460us/step - loss: 1.2673 - acc: 0.5137 - val_loss: 1.2159 - val_acc: 0.5250\n",
      "Epoch 15/120\n",
      "10000/10000 [==============================] - 5s 454us/step - loss: 1.2425 - acc: 0.5104 - val_loss: 1.2095 - val_acc: 0.5200\n",
      "Epoch 16/120\n",
      "10000/10000 [==============================] - 4s 438us/step - loss: 1.2281 - acc: 0.5209 - val_loss: 1.1941 - val_acc: 0.5250\n",
      "Epoch 17/120\n",
      "10000/10000 [==============================] - 4s 448us/step - loss: 1.2257 - acc: 0.5173 - val_loss: 1.1821 - val_acc: 0.5200\n",
      "Epoch 18/120\n",
      "10000/10000 [==============================] - 5s 459us/step - loss: 1.2062 - acc: 0.5195 - val_loss: 1.1871 - val_acc: 0.5230\n",
      "Epoch 19/120\n",
      "10000/10000 [==============================] - 5s 467us/step - loss: 1.2012 - acc: 0.5234 - val_loss: 1.1794 - val_acc: 0.5190\n",
      "Epoch 20/120\n",
      "10000/10000 [==============================] - 5s 459us/step - loss: 1.1995 - acc: 0.5185 - val_loss: 1.1948 - val_acc: 0.5180\n",
      "Epoch 21/120\n",
      "10000/10000 [==============================] - 5s 501us/step - loss: 1.1915 - acc: 0.5206 - val_loss: 1.1707 - val_acc: 0.5070\n",
      "Epoch 22/120\n",
      "10000/10000 [==============================] - 4s 444us/step - loss: 1.1899 - acc: 0.5217 - val_loss: 1.1756 - val_acc: 0.5090\n",
      "Epoch 23/120\n",
      "10000/10000 [==============================] - 4s 425us/step - loss: 1.1919 - acc: 0.5175 - val_loss: 1.1714 - val_acc: 0.5190\n",
      "Epoch 24/120\n",
      "10000/10000 [==============================] - 4s 413us/step - loss: 1.1829 - acc: 0.5164 - val_loss: 1.1741 - val_acc: 0.5110\n",
      "Epoch 25/120\n",
      "10000/10000 [==============================] - 4s 432us/step - loss: 1.1768 - acc: 0.5241 - val_loss: 1.1738 - val_acc: 0.5160\n",
      "Epoch 26/120\n",
      "10000/10000 [==============================] - 4s 415us/step - loss: 1.1812 - acc: 0.5206 - val_loss: 1.1796 - val_acc: 0.5110\n",
      "Epoch 27/120\n",
      "10000/10000 [==============================] - 4s 427us/step - loss: 1.1698 - acc: 0.5230 - val_loss: 1.1550 - val_acc: 0.5150\n",
      "Epoch 28/120\n",
      "10000/10000 [==============================] - 4s 418us/step - loss: 1.1671 - acc: 0.5219 - val_loss: 1.1536 - val_acc: 0.5220\n",
      "Epoch 29/120\n",
      "10000/10000 [==============================] - 4s 432us/step - loss: 1.1575 - acc: 0.5253 - val_loss: 1.1609 - val_acc: 0.5150\n",
      "Epoch 30/120\n",
      "10000/10000 [==============================] - 4s 428us/step - loss: 1.1460 - acc: 0.5314 - val_loss: 1.1584 - val_acc: 0.5110\n",
      "Epoch 31/120\n",
      "10000/10000 [==============================] - 4s 411us/step - loss: 1.1522 - acc: 0.5227 - val_loss: 1.1635 - val_acc: 0.5040\n",
      "Epoch 32/120\n",
      "10000/10000 [==============================] - 4s 448us/step - loss: 1.1452 - acc: 0.5281 - val_loss: 1.1484 - val_acc: 0.5190\n",
      "Epoch 33/120\n",
      "10000/10000 [==============================] - 5s 516us/step - loss: 1.1449 - acc: 0.5204 - val_loss: 1.1634 - val_acc: 0.5200\n",
      "Epoch 34/120\n",
      "10000/10000 [==============================] - 5s 457us/step - loss: 1.1359 - acc: 0.5298 - val_loss: 1.1482 - val_acc: 0.5190\n",
      "Epoch 35/120\n",
      "10000/10000 [==============================] - 5s 492us/step - loss: 1.1342 - acc: 0.5255 - val_loss: 1.1567 - val_acc: 0.5120\n",
      "Epoch 36/120\n",
      "10000/10000 [==============================] - 5s 489us/step - loss: 1.1355 - acc: 0.5300 - val_loss: 1.1558 - val_acc: 0.5160\n",
      "Epoch 37/120\n",
      "10000/10000 [==============================] - 4s 449us/step - loss: 1.1283 - acc: 0.5341 - val_loss: 1.1547 - val_acc: 0.5140\n",
      "Epoch 38/120\n",
      "10000/10000 [==============================] - 4s 418us/step - loss: 1.1249 - acc: 0.5293 - val_loss: 1.1600 - val_acc: 0.5160\n",
      "Epoch 39/120\n",
      "10000/10000 [==============================] - 4s 421us/step - loss: 1.1186 - acc: 0.5324 - val_loss: 1.1501 - val_acc: 0.5090\n",
      "Epoch 40/120\n",
      "10000/10000 [==============================] - 4s 416us/step - loss: 1.1103 - acc: 0.5358 - val_loss: 1.1681 - val_acc: 0.5070\n",
      "Epoch 41/120\n",
      "10000/10000 [==============================] - 4s 413us/step - loss: 1.1130 - acc: 0.5363 - val_loss: 1.1514 - val_acc: 0.5060\n",
      "Epoch 42/120\n",
      "10000/10000 [==============================] - 4s 424us/step - loss: 1.1084 - acc: 0.5319 - val_loss: 1.1549 - val_acc: 0.5130\n",
      "Epoch 43/120\n",
      "10000/10000 [==============================] - 4s 420us/step - loss: 1.1121 - acc: 0.5301 - val_loss: 1.1461 - val_acc: 0.5120\n",
      "Epoch 44/120\n",
      "10000/10000 [==============================] - 4s 434us/step - loss: 1.0989 - acc: 0.5413 - val_loss: 1.1486 - val_acc: 0.5080\n",
      "Epoch 45/120\n",
      "10000/10000 [==============================] - 4s 417us/step - loss: 1.0983 - acc: 0.5412 - val_loss: 1.1726 - val_acc: 0.5200\n",
      "Epoch 46/120\n",
      "10000/10000 [==============================] - 4s 414us/step - loss: 1.0920 - acc: 0.5527 - val_loss: 1.1408 - val_acc: 0.5220\n",
      "Epoch 47/120\n",
      "10000/10000 [==============================] - 4s 425us/step - loss: 1.0775 - acc: 0.5497 - val_loss: 1.1198 - val_acc: 0.5310\n",
      "Epoch 48/120\n",
      "10000/10000 [==============================] - 4s 417us/step - loss: 1.0643 - acc: 0.5612 - val_loss: 1.1155 - val_acc: 0.5310\n",
      "Epoch 49/120\n",
      "10000/10000 [==============================] - 5s 501us/step - loss: 1.0299 - acc: 0.5854 - val_loss: 1.0629 - val_acc: 0.5670\n",
      "Epoch 50/120\n",
      "10000/10000 [==============================] - 5s 494us/step - loss: 0.9613 - acc: 0.6297 - val_loss: 0.9456 - val_acc: 0.6400\n",
      "Epoch 51/120\n",
      "10000/10000 [==============================] - 4s 425us/step - loss: 0.8495 - acc: 0.6883 - val_loss: 0.8092 - val_acc: 0.7130\n",
      "Epoch 52/120\n",
      "10000/10000 [==============================] - 4s 412us/step - loss: 0.7366 - acc: 0.7366 - val_loss: 0.7076 - val_acc: 0.7400\n",
      "Epoch 53/120\n",
      "10000/10000 [==============================] - 4s 411us/step - loss: 0.6806 - acc: 0.7576 - val_loss: 0.6930 - val_acc: 0.7370\n",
      "Epoch 54/120\n",
      "10000/10000 [==============================] - 4s 413us/step - loss: 0.6291 - acc: 0.7690 - val_loss: 0.6651 - val_acc: 0.7330\n",
      "Epoch 55/120\n",
      "10000/10000 [==============================] - 4s 414us/step - loss: 0.5910 - acc: 0.7801 - val_loss: 0.5915 - val_acc: 0.7650\n",
      "Epoch 56/120\n",
      "10000/10000 [==============================] - 4s 421us/step - loss: 0.5540 - acc: 0.7943 - val_loss: 0.5693 - val_acc: 0.7630\n",
      "Epoch 57/120\n",
      "10000/10000 [==============================] - 4s 423us/step - loss: 0.5166 - acc: 0.8042 - val_loss: 0.5222 - val_acc: 0.7830\n",
      "Epoch 58/120\n",
      "10000/10000 [==============================] - 4s 416us/step - loss: 0.4826 - acc: 0.8191 - val_loss: 0.4847 - val_acc: 0.8010\n",
      "Epoch 59/120\n",
      "10000/10000 [==============================] - 4s 418us/step - loss: 0.4560 - acc: 0.8225 - val_loss: 0.4647 - val_acc: 0.8120\n",
      "Epoch 60/120\n",
      "10000/10000 [==============================] - 4s 434us/step - loss: 0.4282 - acc: 0.8348 - val_loss: 0.4599 - val_acc: 0.8160\n",
      "Epoch 61/120\n",
      "10000/10000 [==============================] - 4s 431us/step - loss: 0.4106 - acc: 0.8467 - val_loss: 0.4545 - val_acc: 0.8160\n",
      "Epoch 62/120\n",
      "10000/10000 [==============================] - 4s 415us/step - loss: 0.3915 - acc: 0.8494 - val_loss: 0.4097 - val_acc: 0.8380\n",
      "Epoch 63/120\n",
      "10000/10000 [==============================] - 4s 424us/step - loss: 0.3711 - acc: 0.8591 - val_loss: 0.3846 - val_acc: 0.8460\n",
      "Epoch 64/120\n",
      "10000/10000 [==============================] - 5s 481us/step - loss: 0.3573 - acc: 0.8680 - val_loss: 0.3789 - val_acc: 0.8530\n",
      "Epoch 65/120\n",
      "10000/10000 [==============================] - 4s 426us/step - loss: 0.3503 - acc: 0.8682 - val_loss: 0.3691 - val_acc: 0.8550\n",
      "Epoch 66/120\n",
      "10000/10000 [==============================] - 4s 410us/step - loss: 0.3282 - acc: 0.8738 - val_loss: 0.3592 - val_acc: 0.8590\n",
      "Epoch 67/120\n",
      "10000/10000 [==============================] - 4s 411us/step - loss: 0.3187 - acc: 0.8801 - val_loss: 0.3491 - val_acc: 0.8630\n",
      "Epoch 68/120\n",
      "10000/10000 [==============================] - 4s 413us/step - loss: 0.3109 - acc: 0.8799 - val_loss: 0.3333 - val_acc: 0.8750\n",
      "Epoch 69/120\n",
      "10000/10000 [==============================] - 4s 416us/step - loss: 0.3084 - acc: 0.8828 - val_loss: 0.3438 - val_acc: 0.8610\n",
      "Epoch 70/120\n",
      "10000/10000 [==============================] - 4s 425us/step - loss: 0.2898 - acc: 0.8933 - val_loss: 0.3162 - val_acc: 0.8800\n",
      "Epoch 71/120\n",
      "10000/10000 [==============================] - 5s 453us/step - loss: 0.2807 - acc: 0.8949 - val_loss: 0.3231 - val_acc: 0.8780\n",
      "Epoch 72/120\n",
      "10000/10000 [==============================] - 4s 417us/step - loss: 0.2694 - acc: 0.8997 - val_loss: 0.2944 - val_acc: 0.8960\n",
      "Epoch 73/120\n",
      "10000/10000 [==============================] - 4s 412us/step - loss: 0.2556 - acc: 0.9025 - val_loss: 0.2846 - val_acc: 0.8880\n",
      "Epoch 74/120\n",
      "10000/10000 [==============================] - 4s 435us/step - loss: 0.2399 - acc: 0.9097 - val_loss: 0.2717 - val_acc: 0.8920\n",
      "Epoch 75/120\n",
      "10000/10000 [==============================] - 4s 423us/step - loss: 0.2316 - acc: 0.9135 - val_loss: 0.2745 - val_acc: 0.9010\n",
      "Epoch 76/120\n",
      "10000/10000 [==============================] - 4s 416us/step - loss: 0.2261 - acc: 0.9178 - val_loss: 0.2601 - val_acc: 0.9090\n",
      "Epoch 77/120\n",
      "10000/10000 [==============================] - 4s 413us/step - loss: 0.2117 - acc: 0.9245 - val_loss: 0.2377 - val_acc: 0.9150\n",
      "Epoch 78/120\n",
      "10000/10000 [==============================] - 5s 450us/step - loss: 0.2051 - acc: 0.9233 - val_loss: 0.2220 - val_acc: 0.9180\n",
      "Epoch 79/120\n",
      "10000/10000 [==============================] - 4s 433us/step - loss: 0.1946 - acc: 0.9303 - val_loss: 0.2321 - val_acc: 0.9200\n",
      "Epoch 80/120\n",
      "10000/10000 [==============================] - 4s 418us/step - loss: 0.1888 - acc: 0.9323 - val_loss: 0.2161 - val_acc: 0.9220\n",
      "Epoch 81/120\n",
      "10000/10000 [==============================] - 4s 414us/step - loss: 0.1822 - acc: 0.9364 - val_loss: 0.2138 - val_acc: 0.9260\n",
      "Epoch 82/120\n",
      "10000/10000 [==============================] - 4s 418us/step - loss: 0.1736 - acc: 0.9365 - val_loss: 0.2027 - val_acc: 0.9280\n",
      "Epoch 83/120\n",
      "10000/10000 [==============================] - 4s 427us/step - loss: 0.1709 - acc: 0.9387 - val_loss: 0.1967 - val_acc: 0.9270\n",
      "Epoch 84/120\n",
      "10000/10000 [==============================] - 4s 414us/step - loss: 0.1591 - acc: 0.9433 - val_loss: 0.1880 - val_acc: 0.9380\n",
      "Epoch 85/120\n",
      "10000/10000 [==============================] - 4s 431us/step - loss: 0.1499 - acc: 0.9458 - val_loss: 0.2044 - val_acc: 0.9240\n",
      "Epoch 86/120\n",
      "10000/10000 [==============================] - 4s 425us/step - loss: 0.1527 - acc: 0.9429 - val_loss: 0.2060 - val_acc: 0.9240\n",
      "Epoch 87/120\n",
      "10000/10000 [==============================] - 4s 423us/step - loss: 0.1427 - acc: 0.9502 - val_loss: 0.1874 - val_acc: 0.9390\n",
      "Epoch 88/120\n",
      "10000/10000 [==============================] - 4s 416us/step - loss: 0.1466 - acc: 0.9479 - val_loss: 0.1752 - val_acc: 0.9390\n",
      "Epoch 89/120\n",
      "10000/10000 [==============================] - 4s 434us/step - loss: 0.1412 - acc: 0.9497 - val_loss: 0.1779 - val_acc: 0.9380\n",
      "Epoch 90/120\n",
      "10000/10000 [==============================] - 4s 417us/step - loss: 0.1383 - acc: 0.9511 - val_loss: 0.1632 - val_acc: 0.9450\n",
      "Epoch 91/120\n",
      "10000/10000 [==============================] - 4s 413us/step - loss: 0.1314 - acc: 0.9529 - val_loss: 0.1682 - val_acc: 0.9480\n",
      "Epoch 92/120\n",
      "10000/10000 [==============================] - 4s 418us/step - loss: 0.1293 - acc: 0.9521 - val_loss: 0.1710 - val_acc: 0.9410\n",
      "Epoch 93/120\n",
      "10000/10000 [==============================] - 5s 462us/step - loss: 0.1248 - acc: 0.9561 - val_loss: 0.1615 - val_acc: 0.9450\n",
      "Epoch 94/120\n",
      "10000/10000 [==============================] - 4s 413us/step - loss: 0.1214 - acc: 0.9585 - val_loss: 0.1802 - val_acc: 0.9390\n",
      "Epoch 95/120\n",
      "10000/10000 [==============================] - 4s 411us/step - loss: 0.1211 - acc: 0.9590 - val_loss: 0.1612 - val_acc: 0.9440\n",
      "Epoch 96/120\n",
      "10000/10000 [==============================] - 4s 413us/step - loss: 0.1128 - acc: 0.9608 - val_loss: 0.1557 - val_acc: 0.9480\n",
      "Epoch 97/120\n",
      "10000/10000 [==============================] - 4s 415us/step - loss: 0.1094 - acc: 0.9612 - val_loss: 0.1615 - val_acc: 0.9500\n",
      "Epoch 98/120\n",
      "10000/10000 [==============================] - 4s 411us/step - loss: 0.1162 - acc: 0.9584 - val_loss: 0.1633 - val_acc: 0.9460\n",
      "Epoch 99/120\n",
      "10000/10000 [==============================] - 4s 432us/step - loss: 0.1021 - acc: 0.9641 - val_loss: 0.1526 - val_acc: 0.9500\n",
      "Epoch 100/120\n",
      "10000/10000 [==============================] - 4s 413us/step - loss: 0.1089 - acc: 0.9611 - val_loss: 0.1520 - val_acc: 0.9480\n",
      "Epoch 101/120\n",
      "10000/10000 [==============================] - 4s 408us/step - loss: 0.1037 - acc: 0.9634 - val_loss: 0.1571 - val_acc: 0.9490\n",
      "Epoch 102/120\n",
      "10000/10000 [==============================] - 5s 472us/step - loss: 0.1056 - acc: 0.9648 - val_loss: 0.1501 - val_acc: 0.9500\n",
      "Epoch 103/120\n",
      "10000/10000 [==============================] - 5s 474us/step - loss: 0.0985 - acc: 0.9647 - val_loss: 0.1472 - val_acc: 0.9530\n",
      "Epoch 104/120\n",
      "10000/10000 [==============================] - 5s 476us/step - loss: 0.0980 - acc: 0.9648 - val_loss: 0.1396 - val_acc: 0.9550\n",
      "Epoch 105/120\n",
      "10000/10000 [==============================] - 5s 477us/step - loss: 0.0982 - acc: 0.9664 - val_loss: 0.1373 - val_acc: 0.9500\n",
      "Epoch 106/120\n",
      "10000/10000 [==============================] - 5s 452us/step - loss: 0.0959 - acc: 0.9682 - val_loss: 0.1321 - val_acc: 0.9560\n",
      "Epoch 107/120\n",
      "10000/10000 [==============================] - 5s 507us/step - loss: 0.0836 - acc: 0.9723 - val_loss: 0.1671 - val_acc: 0.9520\n",
      "Epoch 108/120\n",
      "10000/10000 [==============================] - 5s 483us/step - loss: 0.0843 - acc: 0.9709 - val_loss: 0.1400 - val_acc: 0.9560\n",
      "Epoch 109/120\n",
      "10000/10000 [==============================] - 5s 491us/step - loss: 0.0864 - acc: 0.9693 - val_loss: 0.1440 - val_acc: 0.9530\n",
      "Epoch 110/120\n",
      "10000/10000 [==============================] - 5s 470us/step - loss: 0.0805 - acc: 0.9722 - val_loss: 0.1383 - val_acc: 0.9540\n",
      "Epoch 111/120\n",
      "10000/10000 [==============================] - 4s 415us/step - loss: 0.0790 - acc: 0.9720 - val_loss: 0.1349 - val_acc: 0.9610\n",
      "Epoch 112/120\n",
      "10000/10000 [==============================] - 4s 412us/step - loss: 0.0787 - acc: 0.9732 - val_loss: 0.1315 - val_acc: 0.9610\n",
      "Epoch 113/120\n",
      "10000/10000 [==============================] - 4s 412us/step - loss: 0.0805 - acc: 0.9716 - val_loss: 0.1298 - val_acc: 0.9570\n",
      "Epoch 114/120\n",
      "10000/10000 [==============================] - 4s 406us/step - loss: 0.0772 - acc: 0.9712 - val_loss: 0.1247 - val_acc: 0.9640\n",
      "Epoch 115/120\n",
      "10000/10000 [==============================] - 4s 402us/step - loss: 0.0752 - acc: 0.9735 - val_loss: 0.1176 - val_acc: 0.9620\n",
      "Epoch 116/120\n",
      "10000/10000 [==============================] - 4s 402us/step - loss: 0.0806 - acc: 0.9713 - val_loss: 0.1263 - val_acc: 0.9600\n",
      "Epoch 117/120\n"
     ]
    },
    {
     "name": "stdout",
     "output_type": "stream",
     "text": [
      "10000/10000 [==============================] - 4s 407us/step - loss: 0.0718 - acc: 0.9743 - val_loss: 0.1329 - val_acc: 0.9640\n",
      "Epoch 118/120\n",
      "10000/10000 [==============================] - 4s 399us/step - loss: 0.0750 - acc: 0.9734 - val_loss: 0.1145 - val_acc: 0.9650\n",
      "Epoch 119/120\n",
      "10000/10000 [==============================] - 4s 397us/step - loss: 0.0833 - acc: 0.9716 - val_loss: 0.1170 - val_acc: 0.9600\n",
      "Epoch 120/120\n",
      "10000/10000 [==============================] - 4s 394us/step - loss: 0.0696 - acc: 0.9759 - val_loss: 0.1214 - val_acc: 0.9610\n"
     ]
    },
    {
     "ename": "OSError",
     "evalue": "Unable to create file (unable to open file: name = './dnn/chatbot.h5', errno = 2, error message = 'No such file or directory', flags = 13, o_flags = 302)",
     "output_type": "error",
     "traceback": [
      "\u001b[1;31m---------------------------------------------------------------------------\u001b[0m",
      "\u001b[1;31mOSError\u001b[0m                                   Traceback (most recent call last)",
      "\u001b[1;32m<ipython-input-9-44346d72d415>\u001b[0m in \u001b[0;36m<module>\u001b[1;34m()\u001b[0m\n\u001b[0;32m      9\u001b[0m \u001b[0msave_path\u001b[0m \u001b[1;33m=\u001b[0m \u001b[1;34m\"./dnn/\"\u001b[0m\u001b[1;33m\u001b[0m\u001b[0m\n\u001b[0;32m     10\u001b[0m \u001b[1;31m# save entire network to HDF5 (save everything, suggested)\u001b[0m\u001b[1;33m\u001b[0m\u001b[1;33m\u001b[0m\u001b[0m\n\u001b[1;32m---> 11\u001b[1;33m \u001b[0mmodel\u001b[0m\u001b[1;33m.\u001b[0m\u001b[0msave\u001b[0m\u001b[1;33m(\u001b[0m\u001b[0mos\u001b[0m\u001b[1;33m.\u001b[0m\u001b[0mpath\u001b[0m\u001b[1;33m.\u001b[0m\u001b[0mjoin\u001b[0m\u001b[1;33m(\u001b[0m\u001b[0msave_path\u001b[0m\u001b[1;33m,\u001b[0m\u001b[1;34m\"chatbot.h5\"\u001b[0m\u001b[1;33m)\u001b[0m\u001b[1;33m)\u001b[0m\u001b[1;33m\u001b[0m\u001b[0m\n\u001b[0m\u001b[0;32m     12\u001b[0m \u001b[1;31m# save the vocab too, indexes must be the same\u001b[0m\u001b[1;33m\u001b[0m\u001b[1;33m\u001b[0m\u001b[0m\n\u001b[0;32m     13\u001b[0m \u001b[0mpickle\u001b[0m\u001b[1;33m.\u001b[0m\u001b[0mdump\u001b[0m\u001b[1;33m(\u001b[0m \u001b[0mvocab\u001b[0m\u001b[1;33m,\u001b[0m \u001b[0mopen\u001b[0m\u001b[1;33m(\u001b[0m \u001b[0mos\u001b[0m\u001b[1;33m.\u001b[0m\u001b[0mpath\u001b[0m\u001b[1;33m.\u001b[0m\u001b[0mjoin\u001b[0m\u001b[1;33m(\u001b[0m\u001b[0msave_path\u001b[0m\u001b[1;33m,\u001b[0m\u001b[1;34m\"vocab.pkl\"\u001b[0m\u001b[1;33m)\u001b[0m\u001b[1;33m,\u001b[0m \u001b[1;34m\"wb\"\u001b[0m \u001b[1;33m)\u001b[0m \u001b[1;33m)\u001b[0m\u001b[1;33m\u001b[0m\u001b[0m\n",
      "\u001b[1;32m~\\AppData\\Local\\Continuum\\anaconda3\\lib\\site-packages\\keras\\engine\\topology.py\u001b[0m in \u001b[0;36msave\u001b[1;34m(self, filepath, overwrite, include_optimizer)\u001b[0m\n\u001b[0;32m   2578\u001b[0m         \"\"\"\n\u001b[0;32m   2579\u001b[0m         \u001b[1;32mfrom\u001b[0m \u001b[1;33m.\u001b[0m\u001b[1;33m.\u001b[0m\u001b[0mmodels\u001b[0m \u001b[1;32mimport\u001b[0m \u001b[0msave_model\u001b[0m\u001b[1;33m\u001b[0m\u001b[0m\n\u001b[1;32m-> 2580\u001b[1;33m         \u001b[0msave_model\u001b[0m\u001b[1;33m(\u001b[0m\u001b[0mself\u001b[0m\u001b[1;33m,\u001b[0m \u001b[0mfilepath\u001b[0m\u001b[1;33m,\u001b[0m \u001b[0moverwrite\u001b[0m\u001b[1;33m,\u001b[0m \u001b[0minclude_optimizer\u001b[0m\u001b[1;33m)\u001b[0m\u001b[1;33m\u001b[0m\u001b[0m\n\u001b[0m\u001b[0;32m   2581\u001b[0m \u001b[1;33m\u001b[0m\u001b[0m\n\u001b[0;32m   2582\u001b[0m     \u001b[1;32mdef\u001b[0m \u001b[0msave_weights\u001b[0m\u001b[1;33m(\u001b[0m\u001b[0mself\u001b[0m\u001b[1;33m,\u001b[0m \u001b[0mfilepath\u001b[0m\u001b[1;33m,\u001b[0m \u001b[0moverwrite\u001b[0m\u001b[1;33m=\u001b[0m\u001b[1;32mTrue\u001b[0m\u001b[1;33m)\u001b[0m\u001b[1;33m:\u001b[0m\u001b[1;33m\u001b[0m\u001b[0m\n",
      "\u001b[1;32m~\\AppData\\Local\\Continuum\\anaconda3\\lib\\site-packages\\keras\\models.py\u001b[0m in \u001b[0;36msave_model\u001b[1;34m(model, filepath, overwrite, include_optimizer)\u001b[0m\n\u001b[0;32m    104\u001b[0m             \u001b[1;32mreturn\u001b[0m\u001b[1;33m\u001b[0m\u001b[0m\n\u001b[0;32m    105\u001b[0m \u001b[1;33m\u001b[0m\u001b[0m\n\u001b[1;32m--> 106\u001b[1;33m     \u001b[1;32mwith\u001b[0m \u001b[0mh5py\u001b[0m\u001b[1;33m.\u001b[0m\u001b[0mFile\u001b[0m\u001b[1;33m(\u001b[0m\u001b[0mfilepath\u001b[0m\u001b[1;33m,\u001b[0m \u001b[0mmode\u001b[0m\u001b[1;33m=\u001b[0m\u001b[1;34m'w'\u001b[0m\u001b[1;33m)\u001b[0m \u001b[1;32mas\u001b[0m \u001b[0mf\u001b[0m\u001b[1;33m:\u001b[0m\u001b[1;33m\u001b[0m\u001b[0m\n\u001b[0m\u001b[0;32m    107\u001b[0m         \u001b[0mf\u001b[0m\u001b[1;33m.\u001b[0m\u001b[0mattrs\u001b[0m\u001b[1;33m[\u001b[0m\u001b[1;34m'keras_version'\u001b[0m\u001b[1;33m]\u001b[0m \u001b[1;33m=\u001b[0m \u001b[0mstr\u001b[0m\u001b[1;33m(\u001b[0m\u001b[0mkeras_version\u001b[0m\u001b[1;33m)\u001b[0m\u001b[1;33m.\u001b[0m\u001b[0mencode\u001b[0m\u001b[1;33m(\u001b[0m\u001b[1;34m'utf8'\u001b[0m\u001b[1;33m)\u001b[0m\u001b[1;33m\u001b[0m\u001b[0m\n\u001b[0;32m    108\u001b[0m         \u001b[0mf\u001b[0m\u001b[1;33m.\u001b[0m\u001b[0mattrs\u001b[0m\u001b[1;33m[\u001b[0m\u001b[1;34m'backend'\u001b[0m\u001b[1;33m]\u001b[0m \u001b[1;33m=\u001b[0m \u001b[0mK\u001b[0m\u001b[1;33m.\u001b[0m\u001b[0mbackend\u001b[0m\u001b[1;33m(\u001b[0m\u001b[1;33m)\u001b[0m\u001b[1;33m.\u001b[0m\u001b[0mencode\u001b[0m\u001b[1;33m(\u001b[0m\u001b[1;34m'utf8'\u001b[0m\u001b[1;33m)\u001b[0m\u001b[1;33m\u001b[0m\u001b[0m\n",
      "\u001b[1;32m~\\AppData\\Local\\Continuum\\anaconda3\\lib\\site-packages\\h5py\\_hl\\files.py\u001b[0m in \u001b[0;36m__init__\u001b[1;34m(self, name, mode, driver, libver, userblock_size, swmr, **kwds)\u001b[0m\n\u001b[0;32m    267\u001b[0m             \u001b[1;32mwith\u001b[0m \u001b[0mphil\u001b[0m\u001b[1;33m:\u001b[0m\u001b[1;33m\u001b[0m\u001b[0m\n\u001b[0;32m    268\u001b[0m                 \u001b[0mfapl\u001b[0m \u001b[1;33m=\u001b[0m \u001b[0mmake_fapl\u001b[0m\u001b[1;33m(\u001b[0m\u001b[0mdriver\u001b[0m\u001b[1;33m,\u001b[0m \u001b[0mlibver\u001b[0m\u001b[1;33m,\u001b[0m \u001b[1;33m**\u001b[0m\u001b[0mkwds\u001b[0m\u001b[1;33m)\u001b[0m\u001b[1;33m\u001b[0m\u001b[0m\n\u001b[1;32m--> 269\u001b[1;33m                 \u001b[0mfid\u001b[0m \u001b[1;33m=\u001b[0m \u001b[0mmake_fid\u001b[0m\u001b[1;33m(\u001b[0m\u001b[0mname\u001b[0m\u001b[1;33m,\u001b[0m \u001b[0mmode\u001b[0m\u001b[1;33m,\u001b[0m \u001b[0muserblock_size\u001b[0m\u001b[1;33m,\u001b[0m \u001b[0mfapl\u001b[0m\u001b[1;33m,\u001b[0m \u001b[0mswmr\u001b[0m\u001b[1;33m=\u001b[0m\u001b[0mswmr\u001b[0m\u001b[1;33m)\u001b[0m\u001b[1;33m\u001b[0m\u001b[0m\n\u001b[0m\u001b[0;32m    270\u001b[0m \u001b[1;33m\u001b[0m\u001b[0m\n\u001b[0;32m    271\u001b[0m                 \u001b[1;32mif\u001b[0m \u001b[0mswmr_support\u001b[0m\u001b[1;33m:\u001b[0m\u001b[1;33m\u001b[0m\u001b[0m\n",
      "\u001b[1;32m~\\AppData\\Local\\Continuum\\anaconda3\\lib\\site-packages\\h5py\\_hl\\files.py\u001b[0m in \u001b[0;36mmake_fid\u001b[1;34m(name, mode, userblock_size, fapl, fcpl, swmr)\u001b[0m\n\u001b[0;32m    103\u001b[0m         \u001b[0mfid\u001b[0m \u001b[1;33m=\u001b[0m \u001b[0mh5f\u001b[0m\u001b[1;33m.\u001b[0m\u001b[0mcreate\u001b[0m\u001b[1;33m(\u001b[0m\u001b[0mname\u001b[0m\u001b[1;33m,\u001b[0m \u001b[0mh5f\u001b[0m\u001b[1;33m.\u001b[0m\u001b[0mACC_EXCL\u001b[0m\u001b[1;33m,\u001b[0m \u001b[0mfapl\u001b[0m\u001b[1;33m=\u001b[0m\u001b[0mfapl\u001b[0m\u001b[1;33m,\u001b[0m \u001b[0mfcpl\u001b[0m\u001b[1;33m=\u001b[0m\u001b[0mfcpl\u001b[0m\u001b[1;33m)\u001b[0m\u001b[1;33m\u001b[0m\u001b[0m\n\u001b[0;32m    104\u001b[0m     \u001b[1;32melif\u001b[0m \u001b[0mmode\u001b[0m \u001b[1;33m==\u001b[0m \u001b[1;34m'w'\u001b[0m\u001b[1;33m:\u001b[0m\u001b[1;33m\u001b[0m\u001b[0m\n\u001b[1;32m--> 105\u001b[1;33m         \u001b[0mfid\u001b[0m \u001b[1;33m=\u001b[0m \u001b[0mh5f\u001b[0m\u001b[1;33m.\u001b[0m\u001b[0mcreate\u001b[0m\u001b[1;33m(\u001b[0m\u001b[0mname\u001b[0m\u001b[1;33m,\u001b[0m \u001b[0mh5f\u001b[0m\u001b[1;33m.\u001b[0m\u001b[0mACC_TRUNC\u001b[0m\u001b[1;33m,\u001b[0m \u001b[0mfapl\u001b[0m\u001b[1;33m=\u001b[0m\u001b[0mfapl\u001b[0m\u001b[1;33m,\u001b[0m \u001b[0mfcpl\u001b[0m\u001b[1;33m=\u001b[0m\u001b[0mfcpl\u001b[0m\u001b[1;33m)\u001b[0m\u001b[1;33m\u001b[0m\u001b[0m\n\u001b[0m\u001b[0;32m    106\u001b[0m     \u001b[1;32melif\u001b[0m \u001b[0mmode\u001b[0m \u001b[1;33m==\u001b[0m \u001b[1;34m'a'\u001b[0m\u001b[1;33m:\u001b[0m\u001b[1;33m\u001b[0m\u001b[0m\n\u001b[0;32m    107\u001b[0m         \u001b[1;31m# Open in append mode (read/write).\u001b[0m\u001b[1;33m\u001b[0m\u001b[1;33m\u001b[0m\u001b[0m\n",
      "\u001b[1;32mh5py\\_objects.pyx\u001b[0m in \u001b[0;36mh5py._objects.with_phil.wrapper\u001b[1;34m()\u001b[0m\n",
      "\u001b[1;32mh5py\\_objects.pyx\u001b[0m in \u001b[0;36mh5py._objects.with_phil.wrapper\u001b[1;34m()\u001b[0m\n",
      "\u001b[1;32mh5py\\h5f.pyx\u001b[0m in \u001b[0;36mh5py.h5f.create\u001b[1;34m()\u001b[0m\n",
      "\u001b[1;31mOSError\u001b[0m: Unable to create file (unable to open file: name = './dnn/chatbot.h5', errno = 2, error message = 'No such file or directory', flags = 13, o_flags = 302)"
     ]
    }
   ],
   "source": [
    "start_time = time.time()\n",
    "# train\n",
    "model.fit([inputs_train, queries_train], answers_train,\n",
    "          batch_size=32,\n",
    "          epochs=120,\n",
    "          validation_data=([inputs_test, queries_test], answers_test))\n",
    "\n",
    "# save\n",
    "save_path = \"./dnn/\"\n",
    "# save entire network to HDF5 (save everything, suggested)\n",
    "model.save(os.path.join(save_path,\"chatbot.h5\"))\n",
    "# save the vocab too, indexes must be the same\n",
    "pickle.dump( vocab, open( os.path.join(save_path,\"vocab.pkl\"), \"wb\" ) )\n",
    "\n",
    "elapsed_time = time.time() - start_time\n",
    "print(\"Elapsed time: {}\".format(hms_string(elapsed_time)))"
   ]
  },
  {
   "cell_type": "code",
   "execution_count": 10,
   "metadata": {
    "collapsed": true
   },
   "outputs": [],
   "source": [
    "# Load the model, if it exists, load vocab too\n",
    "save_path = \"./dnn/\"\n",
    "model = load_model(os.path.join(save_path,\"chatbot.h5\"))\n",
    "vocab = pickle.load( open( os.path.join(save_path,\"vocab.pkl\"), \"rb\" ) )"
   ]
  },
  {
   "cell_type": "markdown",
   "metadata": {},
   "source": [
    "#### Evaluate Accuracy\n",
    "\n",
    "We evaluate the accuracy, using the same technique as previous classification networks."
   ]
  },
  {
   "cell_type": "code",
   "execution_count": 11,
   "metadata": {},
   "outputs": [
    {
     "name": "stdout",
     "output_type": "stream",
     "text": [
      "[[  4.84025304e-19   4.20079538e-19   3.95324297e-19 ...,   4.96237592e-19\n",
      "    4.13944029e-19   4.70353715e-19]\n",
      " [  4.13656544e-15   3.87317208e-15   3.58496912e-15 ...,   4.34152116e-15\n",
      "    3.58241277e-15   4.05210271e-15]\n",
      " [  4.56332683e-21   4.07824639e-21   4.57121938e-21 ...,   5.32078113e-21\n",
      "    4.45083794e-21   4.77842287e-21]\n",
      " ..., \n",
      " [  2.28002502e-16   2.36599913e-16   2.75854623e-16 ...,   2.75745197e-16\n",
      "    2.60833393e-16   2.55596268e-16]\n",
      " [  4.79898097e-18   4.69900296e-18   4.23174310e-18 ...,   5.21618440e-18\n",
      "    4.59116590e-18   5.18658043e-18]\n",
      " [  3.16733639e-14   2.75788286e-14   2.90205753e-14 ...,   3.14569232e-14\n",
      "    3.05475961e-14   3.46005742e-14]]\n"
     ]
    }
   ],
   "source": [
    "pred = model.predict([inputs_test, queries_test])\n",
    "# See what the predictions look like, they are just probabilities of each class.\n",
    "print(pred)"
   ]
  },
  {
   "cell_type": "code",
   "execution_count": 12,
   "metadata": {},
   "outputs": [
    {
     "name": "stdout",
     "output_type": "stream",
     "text": [
      "[12  9 15 12 15 12 11 12 17 17 15 11 17 10 10 15 11 15 17 11 12 17 17  9 10\n",
      " 10 10 15 15 15 12 17 15 15  9 17  9 11 15 10  9 11 12 12 11 15 12  9 17 10\n",
      " 10 17 11 11 11 10 15 12 11 12 12 17  9 11 11 15 15  9 17 17 11 12 11 10  9\n",
      " 15 15 15 12 17 11  9 10 15 17 11 11 12 15 15  9  9 12  9  9 15 15 15 10 10\n",
      " 10  9 17 11 11 12 10  9 17 10  9  9 15 12 15 11 17 15  9 17 10  9  9 12 10\n",
      " 17 11 11 11  9 11 11  9 11 10  9 17 15  9 15 17 12 12 17 10 15 15 15 15 15\n",
      " 11 11  9 17 10  9 11 10 17 12 10 10 10 11  9 11 11 11 15 10 17 17 11  9  9\n",
      " 17 15 10 17 17 12 17 12 12 10  9 17 11 15 17 12 15 11 12 11 11 17 15  9 10\n",
      " 12 17 17 10 12  9 15 12  9  9  9 10 12 10 12 10  9 12 12  9  9 12 15 12 10\n",
      " 17 12 11  9  9 17 11 12 17 11 10 10 10 10 10 12 15 11 11 15 15 11 11 12 11\n",
      " 10 17  9  9 10 10 17 17 15 11 11 17 12 17 17  9 11 10  9 10 15 17 17 15  9\n",
      " 17 15 12 17  9  9 11 17 17 11 17  9 17 11  9 15 15 10 15 15 11 11 12 12  9\n",
      "  9  9 15 17 17 11  9 17 17 15 11 11 17 10 11 17 10 17 17 11 11 15 15 11 11\n",
      "  9 10 11 11 10 15 17 15 10 17 17 12 11 12 11 12 11 17 15 11 17 17 12 12 15\n",
      " 10 11 11 10 10  9 17 12 11 12 11  9 11 11 11 11 11 12 12 12 12 12 11 11 17\n",
      " 10 15  9 15 10  9 10 10 17 17 15 17 17 17 15 15 12  9 10 17 17 10 17  9 11\n",
      " 10 11 10 15 17 15 12 12 11 15 10 11  9 12 17 10 10 15 12  9 12 12  9  9 10\n",
      " 15 15 17 10 10 17 15 15 11 17 11 15  9 10 11 10 12  9 11 10 11 10 12 11 15\n",
      " 15 15 15 11  9 15 10 12 11 12  9 11 10 17 11 11 10 10 10 17 12 17 17  9 15\n",
      " 11  9 15 11  9 10 10 12 12 11 10  9 12 10  9 15 10 10 11 11 15 15 10 12 12\n",
      " 15 11  9 12  9 15 10 17 17 10 10 17 10 17 17  9 12 10 12 11 17 17 12 12 11\n",
      " 12 17 11 11 12 11 11 11 15  9 11 10 12 12 10 11 17 12 12 15 11 15 11 12 10\n",
      " 10  9 17 10 15 12 15 10 10 12 11 10 11 15 10  9  9 15 10 12 10 10 11 15 17\n",
      "  9 10 12 10 10 12 12 11 15 10 10 11 12 10 10 17 12 17 11  9  9 17 17 11 10\n",
      " 10 10 15 15 17 11 15 12 11 10 15 17  9 11  9 17 15 12 15 17 11 17 12 15  9\n",
      " 10  9  9 10 10  9 10 10 15 11 11 11 15 12  9 11 11 10 17 11 11 12 17 15 15\n",
      "  9 11 15 15 11  9 15 15 11 15 15 15 11 10 10  9 17 17 17 15 10 10 17  9 15\n",
      "  9 17 12 12 12 15 15 15 17  9 11  9 17  9 12 11  9  9 17 11 11 11 11 15 10\n",
      " 12 12  9  9 17 12 12  9 17 12 11 11 15 15 12 11 12 17 15 17 11 12 11 17 17\n",
      " 11 17  9 11  9 10 10 12 17 12 12  9  9  9 15 11 11 15  9  9 10  9 12 17 15\n",
      " 17 17 12 10 15 11 11 17 15  9 17 10  9 11 12 15  9 15 12 10  9 10 17 17 15\n",
      " 15  9  9  9 17 10 17 17  9 12 17 17 12 12 11 11 11 11 17 11 17 17 17 17 10\n",
      " 12  9 17 10 17 11 10 10 12 12 11 11 17 12 12 17 17 15 11 17 11 11  9 12  9\n",
      " 17  9 10  9 15 11  9 15 15 10  9  9  9 17 17 11 11 17 15 15 10 10 11 11 12\n",
      " 10 12  9 10 10 10 10 10 15 17  9 11 17 15 12 11 10 10 15 12 10 11 12 12 11\n",
      " 11 11 15 12 17 10 12 17 15 12 10 10 12 17 10 11 17 11 12 17 17 11 12 11 17\n",
      "  9  9 11 15 11 11 15 15 17 17 10 10 17 12 11 15 12 11 11 10  9 12 12 15 10\n",
      "  9 17 15 17  9 17 17 10 17 15 12 12 11 10  9 10 17 17 15 12 17  9  9 15 10\n",
      " 12 15 15 15 17 17 15 11 15 10 12  9  9 10 11 11  9  9 12 15  9 15  9 12 12\n",
      " 10 17 17 10 12 15  9  9 17 11 11 11 17  9  9 11 15 11 11 11 15 12 17  9 11]\n"
     ]
    }
   ],
   "source": [
    "# Use argmax to turn those into actual predictions.  The class (word) with the highest\n",
    "# probability is the answer.\n",
    "\n",
    "pred = np.argmax(pred,axis=1)\n",
    "print(pred)"
   ]
  },
  {
   "cell_type": "code",
   "execution_count": 13,
   "metadata": {},
   "outputs": [
    {
     "name": "stdout",
     "output_type": "stream",
     "text": [
      "Final accuracy: 0.95\n"
     ]
    }
   ],
   "source": [
    "score = metrics.accuracy_score(answers_test, pred)\n",
    "print(\"Final accuracy: {}\".format(score))"
   ]
  },
  {
   "cell_type": "markdown",
   "metadata": {},
   "source": [
    "#### Adhoc Query\n",
    "\n",
    "You might want to create your own stories and questions.  "
   ]
  },
  {
   "cell_type": "code",
   "execution_count": 14,
   "metadata": {},
   "outputs": [
    {
     "name": "stdout",
     "output_type": "stream",
     "text": [
      "Remember, I only know these words: ['.', '?', 'Daniel', 'John', 'Mary', 'Sandra', 'Where', 'back', 'bathroom', 'bedroom', 'garden', 'hallway', 'is', 'journeyed', 'kitchen', 'moved', 'office', 'the', 'to', 'travelled', 'went']\n",
      "\n",
      "[  2.87214818e-11   2.52614821e-11   2.65876106e-11   2.82483256e-11\n",
      "   2.63113090e-11   2.84588603e-11   2.50336488e-11   2.90474068e-11\n",
      "   2.89508313e-11   1.17750010e-02   3.78847151e-04   1.50052369e-01\n",
      "   1.55859768e-01   2.86468557e-11   3.12608307e-11   6.80781960e-01\n",
      "   2.86887406e-11   1.15210935e-03   2.71236419e-11   2.95860975e-11\n",
      "   2.71023360e-11   3.10942071e-11]\n",
      "Answer: kitchen([15])\n"
     ]
    }
   ],
   "source": [
    "print(\"Remember, I only know these words: {}\".format(vocab))\n",
    "print()\n",
    "story = \"Daniel went to the hallway. Mary went to the bathroom.  Daniel went to the bedroom.\"\n",
    "query = \"Where is Sandra?\"\n",
    "\n",
    "adhoc_stories = (tokenize(story), tokenize(query), '?')\n",
    "\n",
    "adhoc_train, adhoc_query, adhoc_answer = vectorize_stories([adhoc_stories])\n",
    "\n",
    "pred = model.predict([adhoc_train, adhoc_query])\n",
    "print(pred[0])\n",
    "pred = np.argmax(pred,axis=1)\n",
    "print(\"Answer: {}({})\".format(vocab[pred[0]-1],pred))\n"
   ]
  },
  {
   "cell_type": "markdown",
   "metadata": {},
   "source": [
    "# Word2Vec\n",
    "\n",
    "Word2vec is a group of related models that are used to produce word embeddings. These models are shallow, two-layer neural networks that are trained to reconstruct linguistic contexts of words. Word2vec takes as its input a large corpus of text and produces a vector space, typically of several hundred dimensions, with each unique word in the corpus being assigned a corresponding vector in the space. Word vectors are positioned in the vector space such that words that share common contexts in the corpus are located in close proximity to one another in the space.\n",
    "\n",
    "Mikolov, T., Chen, K., Corrado, G., & Dean, J. (2013). [Efficient estimation of word representations in vector space](https://arxiv.org/abs/1301.3781). arXiv preprint arXiv:1301.3781.\n",
    "\n",
    "![Word2Vec](https://pbs.twimg.com/media/C7jJxIjWkAA8E_s.jpg)\n",
    "[Trust Word2Vec](https://twitter.com/DanilBaibak/status/844647217885581312)\n",
    "\n",
    "### Suggested Software for Word2Vec\n",
    "\n",
    "* [GoogleNews Vectors](https://code.google.com/archive/p/word2vec/), [GitHub Mirror](https://github.com/mmihaltz/word2vec-GoogleNews-vectors)\n",
    "* [Python Gensim](https://radimrehurek.com/gensim/)\n"
   ]
  },
  {
   "cell_type": "code",
   "execution_count": 5,
   "metadata": {
    "ExecuteTime": {
     "end_time": "2018-05-01T15:27:03.682716Z",
     "start_time": "2018-05-01T15:27:03.670717Z"
    }
   },
   "outputs": [
    {
     "name": "stdout",
     "output_type": "stream",
     "text": [
      "C:\\Users\\sureshkm\\.keras\\datasets\\GoogleNews-vectors-negative300.bin.gz\n"
     ]
    }
   ],
   "source": [
    "try:\n",
    "    path = get_file('GoogleNews-vectors-negative300.bin.gz', origin='https://s3.amazonaws.com/dl4j-distribution/GoogleNews-vectors-negative300.bin.gz')\n",
    "except:\n",
    "    print('Error downloading')\n",
    "    raise\n",
    "    \n",
    "print(path)    \n"
   ]
  },
  {
   "cell_type": "code",
   "execution_count": 6,
   "metadata": {
    "ExecuteTime": {
     "end_time": "2018-05-01T15:29:28.306679Z",
     "start_time": "2018-05-01T15:27:05.215393Z"
    }
   },
   "outputs": [
    {
     "name": "stderr",
     "output_type": "stream",
     "text": [
      "C:\\Users\\sureshkm\\AppData\\Local\\Continuum\\anaconda3\\lib\\site-packages\\gensim\\utils.py:1197: UserWarning: detected Windows; aliasing chunkize to chunkize_serial\n",
      "  warnings.warn(\"detected Windows; aliasing chunkize to chunkize_serial\")\n"
     ]
    }
   ],
   "source": [
    "import gensim\n",
    "\n",
    "# Not that the path below refers to a location on my hard drive.\n",
    "# You should download GoogleNews Vectors (see suggested software above)\n",
    "model = gensim.models.KeyedVectors.load_word2vec_format(path, binary=True)"
   ]
  },
  {
   "cell_type": "markdown",
   "metadata": {},
   "source": [
    "Word2vec makes each word a vector.  We are using the 300-number vector, which can be seen for the word \"hello\"."
   ]
  },
  {
   "cell_type": "code",
   "execution_count": 7,
   "metadata": {
    "ExecuteTime": {
     "end_time": "2018-05-01T15:29:28.326642Z",
     "start_time": "2018-05-01T15:29:28.322643Z"
    }
   },
   "outputs": [],
   "source": [
    "w = model['hello']"
   ]
  },
  {
   "cell_type": "code",
   "execution_count": 8,
   "metadata": {
    "ExecuteTime": {
     "end_time": "2018-05-01T15:29:28.358644Z",
     "start_time": "2018-05-01T15:29:28.350645Z"
    }
   },
   "outputs": [
    {
     "name": "stdout",
     "output_type": "stream",
     "text": [
      "300\n"
     ]
    }
   ],
   "source": [
    "print(len(w))"
   ]
  },
  {
   "cell_type": "code",
   "execution_count": 9,
   "metadata": {
    "ExecuteTime": {
     "end_time": "2018-05-01T15:29:28.402649Z",
     "start_time": "2018-05-01T15:29:28.386646Z"
    }
   },
   "outputs": [
    {
     "name": "stdout",
     "output_type": "stream",
     "text": [
      "[-0.05419922  0.01708984 -0.00527954  0.33203125 -0.25       -0.01397705\n",
      " -0.15039062 -0.265625    0.01647949  0.3828125  -0.03295898 -0.09716797\n",
      " -0.16308594 -0.04443359  0.00946045  0.18457031  0.03637695  0.16601562\n",
      "  0.36328125 -0.25585938  0.375       0.171875    0.21386719 -0.19921875\n",
      "  0.13085938 -0.07275391 -0.02819824  0.11621094  0.15332031  0.09082031\n",
      "  0.06787109 -0.0300293  -0.16894531 -0.20800781 -0.03710938 -0.22753906\n",
      "  0.26367188  0.012146    0.18359375  0.31054688 -0.10791016 -0.19140625\n",
      "  0.21582031  0.13183594 -0.03515625  0.18554688 -0.30859375  0.04785156\n",
      " -0.10986328  0.14355469 -0.43554688 -0.0378418   0.10839844  0.140625\n",
      " -0.10595703  0.26171875 -0.17089844  0.39453125  0.12597656 -0.27734375\n",
      " -0.28125     0.14746094 -0.20996094  0.02355957  0.18457031  0.00445557\n",
      " -0.27929688 -0.03637695 -0.29296875  0.19628906  0.20703125  0.2890625\n",
      " -0.20507812  0.06787109 -0.43164062 -0.10986328 -0.2578125  -0.02331543\n",
      "  0.11328125  0.23144531 -0.04418945  0.10839844 -0.2890625  -0.09521484\n",
      " -0.10351562 -0.0324707   0.07763672 -0.13378906  0.22949219  0.06298828\n",
      "  0.08349609  0.02929688 -0.11474609  0.00534058 -0.12988281  0.02514648\n",
      "  0.08789062  0.24511719 -0.11474609 -0.296875   -0.59375    -0.29492188\n",
      " -0.13378906  0.27734375 -0.04174805  0.11621094  0.28320312  0.00241089\n",
      "  0.13867188 -0.00683594 -0.30078125  0.16210938  0.01171875 -0.13867188\n",
      "  0.48828125  0.02880859  0.02416992  0.04736328  0.05859375 -0.23828125\n",
      "  0.02758789  0.05981445 -0.03857422  0.06933594  0.14941406 -0.10888672\n",
      " -0.07324219  0.08789062  0.27148438  0.06591797 -0.37890625 -0.26171875\n",
      " -0.13183594  0.09570312 -0.3125      0.10205078  0.03063965  0.23632812\n",
      "  0.00582886  0.27734375  0.20507812 -0.17871094 -0.31445312 -0.01586914\n",
      "  0.13964844  0.13574219  0.0390625  -0.29296875  0.234375   -0.33984375\n",
      " -0.11816406  0.10644531 -0.18457031 -0.02099609  0.02563477  0.25390625\n",
      "  0.07275391  0.13574219 -0.00138092 -0.2578125  -0.2890625   0.10107422\n",
      "  0.19238281 -0.04882812  0.27929688 -0.3359375  -0.07373047  0.01879883\n",
      " -0.10986328 -0.04614258  0.15722656  0.06689453 -0.03417969  0.16308594\n",
      "  0.08642578  0.44726562  0.02026367 -0.01977539  0.07958984  0.17773438\n",
      " -0.04370117 -0.00952148  0.16503906  0.17285156  0.23144531 -0.04272461\n",
      "  0.02355957  0.18359375 -0.41601562 -0.01745605  0.16796875  0.04736328\n",
      "  0.14257812  0.08496094  0.33984375  0.1484375  -0.34375    -0.14160156\n",
      " -0.06835938 -0.14648438 -0.02844238  0.07421875 -0.07666016  0.12695312\n",
      "  0.05859375 -0.07568359 -0.03344727  0.23632812 -0.16308594  0.16503906\n",
      "  0.1484375  -0.2421875  -0.3515625  -0.30664062  0.00491333  0.17675781\n",
      "  0.46289062  0.14257812 -0.25       -0.25976562  0.04370117  0.34960938\n",
      "  0.05957031  0.07617188 -0.02868652 -0.09667969 -0.01281738  0.05859375\n",
      " -0.22949219 -0.1953125  -0.12207031  0.20117188 -0.42382812  0.06005859\n",
      "  0.50390625  0.20898438  0.11230469 -0.06054688  0.33203125  0.07421875\n",
      " -0.05786133  0.11083984 -0.06494141  0.05639648  0.01757812  0.08398438\n",
      "  0.13769531  0.2578125   0.16796875 -0.16894531  0.01794434  0.16015625\n",
      "  0.26171875  0.31640625 -0.24804688  0.05371094 -0.0859375   0.17089844\n",
      " -0.39453125 -0.00156403 -0.07324219 -0.04614258 -0.16210938 -0.15722656\n",
      "  0.21289062 -0.15820312  0.04394531  0.28515625  0.01196289 -0.26953125\n",
      " -0.04370117  0.37109375  0.04663086 -0.19726562  0.3046875  -0.36523438\n",
      " -0.23632812  0.08056641 -0.04248047 -0.14648438 -0.06225586 -0.0534668\n",
      " -0.05664062  0.18945312  0.37109375 -0.22070312  0.04638672  0.02612305\n",
      " -0.11474609  0.265625   -0.02453613  0.11083984 -0.02514648 -0.12060547\n",
      "  0.05297852  0.07128906  0.00063705 -0.36523438 -0.13769531 -0.12890625]\n"
     ]
    }
   ],
   "source": [
    "print(w)"
   ]
  },
  {
   "cell_type": "markdown",
   "metadata": {},
   "source": [
    "The code below shows the distance between two words."
   ]
  },
  {
   "cell_type": "code",
   "execution_count": 10,
   "metadata": {
    "ExecuteTime": {
     "end_time": "2018-05-01T15:29:28.434648Z",
     "start_time": "2018-05-01T15:29:28.418647Z"
    }
   },
   "outputs": [
    {
     "name": "stdout",
     "output_type": "stream",
     "text": [
      "3.57513\n"
     ]
    }
   ],
   "source": [
    "import numpy as np\n",
    "\n",
    "w1 = model['vapor']\n",
    "w2 = model['water']\n",
    "\n",
    "dist = np.linalg.norm(w1-w2)\n",
    "\n",
    "print(dist)"
   ]
  },
  {
   "cell_type": "markdown",
   "metadata": {},
   "source": [
    "This shows the classic word2vec equation of **queen = (king - man) + female**"
   ]
  },
  {
   "cell_type": "code",
   "execution_count": 11,
   "metadata": {
    "ExecuteTime": {
     "end_time": "2018-05-01T15:29:44.140358Z",
     "start_time": "2018-05-01T15:29:28.498651Z"
    }
   },
   "outputs": [
    {
     "data": {
      "text/plain": [
       "[('gorilla', 0.4916578531265259),\n",
       " ('tiger', 0.47669246792793274),\n",
       " ('elephant', 0.47190138697624207),\n",
       " ('monkey', 0.45950955152511597),\n",
       " ('squirrel', 0.4441283941268921),\n",
       " ('frog', 0.4412733316421509),\n",
       " ('lions', 0.43587300181388855),\n",
       " ('Nile_crocodile', 0.42671990394592285),\n",
       " ('rabbit', 0.42445677518844604),\n",
       " ('giraffe', 0.42444396018981934)]"
      ]
     },
     "execution_count": 11,
     "metadata": {},
     "output_type": "execute_result"
    }
   ],
   "source": [
    "model.most_similar(positive=['lion','cat'], negative=['dogs'])\n"
   ]
  },
  {
   "cell_type": "markdown",
   "metadata": {
    "collapsed": true
   },
   "source": [
    "The following code shows which item does not belong with the others."
   ]
  },
  {
   "cell_type": "code",
   "execution_count": 12,
   "metadata": {
    "ExecuteTime": {
     "end_time": "2018-05-01T15:29:44.208361Z",
     "start_time": "2018-05-01T15:29:44.196360Z"
    }
   },
   "outputs": [
    {
     "data": {
      "text/plain": [
       "'dog'"
      ]
     },
     "execution_count": 12,
     "metadata": {},
     "output_type": "execute_result"
    }
   ],
   "source": [
    "model.doesnt_match(\"house garage store dog\".split())\n"
   ]
  },
  {
   "cell_type": "markdown",
   "metadata": {},
   "source": [
    "The following code shows the similarity between two words."
   ]
  },
  {
   "cell_type": "code",
   "execution_count": 13,
   "metadata": {
    "ExecuteTime": {
     "end_time": "2018-05-01T15:29:44.292364Z",
     "start_time": "2018-05-01T15:29:44.260364Z"
    }
   },
   "outputs": [
    {
     "data": {
      "text/plain": [
       "0.62627882321344674"
      ]
     },
     "execution_count": 13,
     "metadata": {},
     "output_type": "execute_result"
    }
   ],
   "source": [
    "model.similarity('lambo', 'ferrari')"
   ]
  },
  {
   "cell_type": "markdown",
   "metadata": {},
   "source": [
    "The following code shows which words are most similar to the given one."
   ]
  },
  {
   "cell_type": "code",
   "execution_count": 24,
   "metadata": {
    "ExecuteTime": {
     "end_time": "2018-05-01T16:10:31.922390Z",
     "start_time": "2018-05-01T16:10:31.516241Z"
    }
   },
   "outputs": [
    {
     "data": {
      "text/plain": [
       "[('newts', 0.5993279218673706),\n",
       " ('frog', 0.5425999164581299),\n",
       " ('salamander', 0.5349865555763245),\n",
       " ('frogs', 0.5226622223854065),\n",
       " ('lizard', 0.5167595148086548),\n",
       " ('salamanders', 0.5082288980484009),\n",
       " ('squirrel', 0.4951688051223755),\n",
       " ('otter', 0.49366065859794617),\n",
       " ('toad', 0.4875979423522949),\n",
       " ('snails', 0.48703545331954956)]"
      ]
     },
     "execution_count": 24,
     "metadata": {},
     "output_type": "execute_result"
    }
   ],
   "source": [
    "# %%timeit\n",
    "model.most_similar(\"newt\")"
   ]
  },
  {
   "cell_type": "markdown",
   "metadata": {},
   "source": [
    "# More on LSTM\n",
    "\n",
    "* [The Unreasonable Effectiveness of Recurrent Neural Networks](http://karpathy.github.io/2015/05/21/rnn-effectiveness/)\n",
    "* [LSTM Music](https://www.youtube.com/watch?v=0VTI1BBLydE)\n",
    "* [Natural Language Processing from Scratch](https://arxiv.org/abs/1103.0398)"
   ]
  },
  {
   "cell_type": "code",
   "execution_count": null,
   "metadata": {
    "collapsed": true
   },
   "outputs": [],
   "source": []
  }
 ],
 "metadata": {
  "anaconda-cloud": {},
  "kernelspec": {
   "display_name": "Python 3",
   "language": "python",
   "name": "python3"
  },
  "language_info": {
   "codemirror_mode": {
    "name": "ipython",
    "version": 3
   },
   "file_extension": ".py",
   "mimetype": "text/x-python",
   "name": "python",
   "nbconvert_exporter": "python",
   "pygments_lexer": "ipython3",
   "version": "3.6.5"
  },
  "notify_time": "5",
  "toc": {
   "nav_menu": {},
   "number_sections": true,
   "sideBar": true,
   "skip_h1_title": false,
   "title_cell": "Table of Contents",
   "title_sidebar": "Contents",
   "toc_cell": false,
   "toc_position": {},
   "toc_section_display": true,
   "toc_window_display": false
  },
  "varInspector": {
   "cols": {
    "lenName": 16,
    "lenType": 16,
    "lenVar": 40
   },
   "kernels_config": {
    "python": {
     "delete_cmd_postfix": "",
     "delete_cmd_prefix": "del ",
     "library": "var_list.py",
     "varRefreshCmd": "print(var_dic_list())"
    },
    "r": {
     "delete_cmd_postfix": ") ",
     "delete_cmd_prefix": "rm(",
     "library": "var_list.r",
     "varRefreshCmd": "cat(var_dic_list()) "
    }
   },
   "types_to_exclude": [
    "module",
    "function",
    "builtin_function_or_method",
    "instance",
    "_Feature"
   ],
   "window_display": false
  }
 },
 "nbformat": 4,
 "nbformat_minor": 1
}
